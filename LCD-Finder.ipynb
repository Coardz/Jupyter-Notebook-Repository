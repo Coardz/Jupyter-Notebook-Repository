{
 "cells": [
  {
   "cell_type": "markdown",
   "id": "775ed5ca-5bb7-485d-8539-968c95510fb8",
   "metadata": {},
   "source": [
    "<h1>In this code we will find the lcd</h1>"
   ]
  },
  {
   "cell_type": "code",
   "execution_count": 8,
   "id": "17e07f69-2f19-4a25-9ad0-bcf39c273c3c",
   "metadata": {},
   "outputs": [
    {
     "name": "stdout",
     "output_type": "stream",
     "text": [
      "40\n"
     ]
    }
   ],
   "source": [
    "def find_lcd(num1: int, num2: int):\n",
    "    \n",
    "# let's design an algorithm first\n",
    "# 8 = 8, 16, 24, 32, 40, 48, 56, 64, 72, 80\n",
    "# 10 = 10, 20, 30, 40, 50, 60, 70, 80, 90, 100\n",
    "\n",
    "# the lcd is 40\n",
    "\n",
    "# what we want to do is find who is greater first\n",
    "\n",
    "    # check which bigger to make it simple\n",
    "    if num1 > num2:\n",
    "        greater = num1\n",
    "    else:\n",
    "        greater = num2\n",
    "\n",
    "    while True:\n",
    "        # code below check if the greater remainder != 0\n",
    "        if greater  % num1 == 0 and greater % num2 == 0:\n",
    "            lcd = greater\n",
    "            break\n",
    "        # code below increment greater  if the remainder isn't == 0\n",
    "        greater += 1\n",
    "\n",
    "    # return the lcd\n",
    "    return lcd\n",
    "\n",
    "\n",
    "\n",
    "\n",
    "\n",
    "\n",
    "result = find_lcd(8, 10) # should return 40\n",
    "\n",
    "print(result)"
   ]
  },
  {
   "cell_type": "markdown",
   "id": "2e4753c9-d149-4a12-aef4-7703680c8ea4",
   "metadata": {},
   "source": [
    "<h1>Finding more than one lcd</h1>"
   ]
  },
  {
   "cell_type": "code",
   "execution_count": 28,
   "id": "85dc6c72-735f-4ecf-a2cc-5b52c0b9081f",
   "metadata": {},
   "outputs": [
    {
     "name": "stdout",
     "output_type": "stream",
     "text": [
      "The 5 lcds is: [4, 8, 12, 16, 20]\n"
     ]
    }
   ],
   "source": [
    "def find_lcd(num1: int, num2: int, times: int):\n",
    "    \n",
    "    lcds = []\n",
    "    \n",
    "    if num1 > num2:\n",
    "        greater = num1\n",
    "    else:\n",
    "        greater = num2\n",
    "    while True:\n",
    "        if greater % num1 == 0 and greater % num2 == 0:\n",
    "            lcds.append(greater)\n",
    "            # you can change it depends on how many lcd you want to find\n",
    "            if len(lcds) == times:\n",
    "                break\n",
    "        greater += 1\n",
    "\n",
    "    return lcds\n",
    "\n",
    "\n",
    "# 2 and 4 is the numbers you want to find lcd\n",
    "# 5 is how many lcd you want find\n",
    "result = find_lcd(2, 4, 5) \n",
    "\n",
    "print(f\"The {len(result)} lcds is:\",result)"
   ]
  },
  {
   "cell_type": "code",
   "execution_count": null,
   "id": "4d690596-87a8-4780-8219-b6ab413ef3dc",
   "metadata": {},
   "outputs": [],
   "source": []
  }
 ],
 "metadata": {
  "kernelspec": {
   "display_name": "Python 3 (ipykernel)",
   "language": "python",
   "name": "python3"
  },
  "language_info": {
   "codemirror_mode": {
    "name": "ipython",
    "version": 3
   },
   "file_extension": ".py",
   "mimetype": "text/x-python",
   "name": "python",
   "nbconvert_exporter": "python",
   "pygments_lexer": "ipython3",
   "version": "3.12.4"
  }
 },
 "nbformat": 4,
 "nbformat_minor": 5
}
