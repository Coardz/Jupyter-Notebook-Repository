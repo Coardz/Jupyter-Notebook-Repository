{
 "cells": [
  {
   "cell_type": "markdown",
   "id": "738b757a-53e4-48c7-9190-f692db5c8da8",
   "metadata": {},
   "source": [
    "<h1>Hello today were going to explore array</h1>\n",
    "<center>\n",
    "    <img src=\"https://i.pinimg.com/originals/91/83/53/9183536fc6599de854426677eb35c397.jpg\">\n",
    "</center>\n",
    "\n",
    "<p>What were going to is try make </p>"
   ]
  },
  {
   "cell_type": "code",
   "execution_count": 44,
   "id": "2db5fffe-7a36-4b48-a5a9-bcf264080a44",
   "metadata": {},
   "outputs": [
    {
     "name": "stdout",
     "output_type": "stream",
     "text": [
      "['A', 'B', 'C']\n"
     ]
    }
   ],
   "source": [
    "# example 1\n",
    "\n",
    "list = [\"Apple\", \"Banana\", \"Corn\"]\n",
    "empty_list = []\n",
    "\n",
    "# so basically what does the line code do is reverse the list\n",
    "# list turns into [\"Corn\", \"Banana\", \"Apple,]\n",
    "for i in list[::-1]:\n",
    "    # print(i)\n",
    "    # return the first letter in the list\n",
    "    # empty_list.append(i[0])\n",
    "\n",
    "    # append the first letter\n",
    "    empty_list.append(i[0])\n",
    "\n",
    "# sort it alphabetically\n",
    "empty_list.sort()\n",
    "print(empty_list)"
   ]
  },
  {
   "cell_type": "code",
   "execution_count": 68,
   "id": "fca110cc-1230-401b-a718-f47b3f6a2751",
   "metadata": {},
   "outputs": [
    {
     "ename": "TypeError",
     "evalue": "'int' object is not subscriptable",
     "output_type": "error",
     "traceback": [
      "\u001b[0;31m---------------------------------------------------------------------------\u001b[0m",
      "\u001b[0;31mTypeError\u001b[0m                                 Traceback (most recent call last)",
      "Cell \u001b[0;32mIn[68], line 14\u001b[0m\n\u001b[1;32m     12\u001b[0m \u001b[38;5;28mlist\u001b[39m \u001b[38;5;241m=\u001b[39m [\u001b[38;5;241m1\u001b[39m, \u001b[38;5;241m3\u001b[39m ,\u001b[38;5;241m4\u001b[39m ,\u001b[38;5;241m2\u001b[39m ,\u001b[38;5;241m1\u001b[39m ,\u001b[38;5;241m3\u001b[39m ,\u001b[38;5;241m5\u001b[39m]\n\u001b[1;32m     13\u001b[0m \u001b[38;5;66;03m#print(len(list))\u001b[39;00m\n\u001b[0;32m---> 14\u001b[0m two_sum(\u001b[38;5;28mlist\u001b[39m, \u001b[38;5;241m2\u001b[39m)\n",
      "Cell \u001b[0;32mIn[68], line 7\u001b[0m, in \u001b[0;36mtwo_sum\u001b[0;34m(number_list, number)\u001b[0m\n\u001b[1;32m      4\u001b[0m index \u001b[38;5;241m=\u001b[39m \u001b[38;5;241m0\u001b[39m\n\u001b[1;32m      6\u001b[0m \u001b[38;5;28;01mfor\u001b[39;00m i \u001b[38;5;129;01min\u001b[39;00m \u001b[38;5;28mlist\u001b[39m:\n\u001b[0;32m----> 7\u001b[0m     \u001b[38;5;28;01mif\u001b[39;00m i[index] \u001b[38;5;241m+\u001b[39m i[index\u001b[38;5;241m+\u001b[39m\u001b[38;5;241m1\u001b[39m] \u001b[38;5;241m==\u001b[39m number:\n\u001b[1;32m      8\u001b[0m         \u001b[38;5;28;01mreturn\u001b[39;00m i[index], i[index\u001b[38;5;241m+\u001b[39m\u001b[38;5;241m1\u001b[39m]\n\u001b[1;32m      9\u001b[0m     \u001b[38;5;28;01melse\u001b[39;00m:\n",
      "\u001b[0;31mTypeError\u001b[0m: 'int' object is not subscriptable"
     ]
    }
   ],
   "source": [
    "# let's do a fucking two sum\n",
    "def two_sum(number_list: list, number: int):\n",
    "    \n",
    "    index = 0\n",
    "    \n",
    "    for i in list:\n",
    "        if i[index] + i[index+1] == number:\n",
    "            return i[index], i[index+1]\n",
    "        else:\n",
    "            index += 1\n",
    "    \n",
    "list = [1, 3 ,4 ,2 ,1 ,3 ,5]\n",
    "#print(len(list))\n",
    "two_sum(list, 2)\n"
   ]
  },
  {
   "cell_type": "code",
   "execution_count": null,
   "id": "039d0292-3629-4756-b7ab-624d55910eb7",
   "metadata": {},
   "outputs": [],
   "source": []
  },
  {
   "cell_type": "code",
   "execution_count": null,
   "id": "85d4c163-1fd9-4427-a7ab-c05536c306d0",
   "metadata": {},
   "outputs": [],
   "source": []
  },
  {
   "cell_type": "code",
   "execution_count": null,
   "id": "f50b3fef-b3c9-4962-bd99-72f353124d6e",
   "metadata": {},
   "outputs": [],
   "source": []
  }
 ],
 "metadata": {
  "kernelspec": {
   "display_name": "Python 3 (ipykernel)",
   "language": "python",
   "name": "python3"
  },
  "language_info": {
   "codemirror_mode": {
    "name": "ipython",
    "version": 3
   },
   "file_extension": ".py",
   "mimetype": "text/x-python",
   "name": "python",
   "nbconvert_exporter": "python",
   "pygments_lexer": "ipython3",
   "version": "3.12.4"
  }
 },
 "nbformat": 4,
 "nbformat_minor": 5
}
