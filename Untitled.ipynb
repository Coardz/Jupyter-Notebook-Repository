{
 "cells": [
  {
   "cell_type": "markdown",
   "id": "c872d8cd-c760-42e2-9980-90e02643b110",
   "metadata": {},
   "source": [
    "<h1>Introduction to Numpy</h1>"
   ]
  },
  {
   "cell_type": "code",
   "execution_count": 19,
   "id": "74330afe-123f-48c5-880e-2ac89e8ccb88",
   "metadata": {},
   "outputs": [
    {
     "name": "stdout",
     "output_type": "stream",
     "text": [
      "(3, 3)\n",
      "[5 7 9]\n",
      "[5 7 9]\n"
     ]
    }
   ],
   "source": [
    "import numpy as np\n",
    "\n",
    "list = np.array ([\n",
    "    [\"2\", \"4\", \"6\"],\n",
    "    [\"8\", \"10\", \"12\"],\n",
    "    [\"14\", \"16\", \"18\"]\n",
    "])\n",
    "\n",
    "print(list.shape)\n",
    "\n",
    "a = np.array([1, 2, 3])\n",
    "b = np.array([4, 5, 6])\n",
    "\n",
    "add_ans = a + b\n",
    "print(add_ans)\n",
    "\n",
    "add_ans = np.add(a, b)\n",
    "print(add_ans)"
   ]
  },
  {
   "cell_type": "code",
   "execution_count": 33,
   "id": "826e18f5-1a00-4ee4-8f4d-b4b6934913a6",
   "metadata": {},
   "outputs": [
    {
     "data": {
      "text/plain": [
       "363.3333333333333"
      ]
     },
     "execution_count": 33,
     "metadata": {},
     "output_type": "execute_result"
    }
   ],
   "source": [
    "1090 / 3"
   ]
  },
  {
   "cell_type": "code",
   "execution_count": null,
   "id": "61e55d9c-66db-40d7-b245-69deff8e999b",
   "metadata": {},
   "outputs": [],
   "source": []
  }
 ],
 "metadata": {
  "kernelspec": {
   "display_name": "Python 3 (ipykernel)",
   "language": "python",
   "name": "python3"
  },
  "language_info": {
   "codemirror_mode": {
    "name": "ipython",
    "version": 3
   },
   "file_extension": ".py",
   "mimetype": "text/x-python",
   "name": "python",
   "nbconvert_exporter": "python",
   "pygments_lexer": "ipython3",
   "version": "3.12.4"
  }
 },
 "nbformat": 4,
 "nbformat_minor": 5
}
