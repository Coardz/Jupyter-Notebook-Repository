{
 "cells": [
  {
   "cell_type": "markdown",
   "id": "a726fb21-58e6-4566-91d9-04be75c8ef96",
   "metadata": {},
   "source": [
    "<h1>This is the race checker i made</h1>"
   ]
  },
  {
   "cell_type": "code",
   "execution_count": 16,
   "id": "16978dd4-6592-4645-a989-fe1ce11547fa",
   "metadata": {},
   "outputs": [
    {
     "name": "stdin",
     "output_type": "stream",
     "text": [
      "What color you are: nigga\n"
     ]
    },
    {
     "name": "stdout",
     "output_type": "stream",
     "text": [
      "Unidentified Kill Yourself👺🤡💩\n"
     ]
    }
   ],
   "source": [
    "race = input(\"What color you are:\")\n",
    "\n",
    "if race == \"black\":\n",
    "    print(\"NIGGA! !!\")\n",
    "elif race == \"white\" or race == \"yellow\":\n",
    "    print(\"welcome\")\n",
    "else:\n",
    "    print(\"Unidentified Kill Yourself👺🤡💩\")"
   ]
  },
  {
   "cell_type": "code",
   "execution_count": 31,
   "id": "a27c08fa-1ffc-4f4f-9734-ed1bf2402e38",
   "metadata": {},
   "outputs": [
    {
     "name": "stdout",
     "output_type": "stream",
     "text": [
      "       *\n",
      "      ***\n",
      "     *****\n",
      "    *******\n",
      "   *********\n",
      "  ***********\n"
     ]
    }
   ],
   "source": [
    "# let's said we have 20 spaces\n",
    "\n",
    "# we want to make something like this\n",
    "\n",
    "# 123456*612345\n",
    "# 12345***12345\n",
    "# 1234*****1234\n",
    "# 12*********12\n",
    "# *************\n",
    "#       *\n",
    "\n",
    "spaces = 6\n",
    "multiplier = 1\n",
    "while spaces != 0:\n",
    "    print(\" \" * spaces, (\"*\" * multiplier))\n",
    "    multiplier += 2\n",
    "    spaces -= 1\n",
    "print(\" \" * spaces, ()"
   ]
  },
  {
   "cell_type": "code",
   "execution_count": null,
   "id": "34b522aa-8efc-4881-8565-115a7bdd3f5b",
   "metadata": {},
   "outputs": [],
   "source": []
  }
 ],
 "metadata": {
  "kernelspec": {
   "display_name": "Python 3 (ipykernel)",
   "language": "python",
   "name": "python3"
  },
  "language_info": {
   "codemirror_mode": {
    "name": "ipython",
    "version": 3
   },
   "file_extension": ".py",
   "mimetype": "text/x-python",
   "name": "python",
   "nbconvert_exporter": "python",
   "pygments_lexer": "ipython3",
   "version": "3.12.4"
  }
 },
 "nbformat": 4,
 "nbformat_minor": 5
}
